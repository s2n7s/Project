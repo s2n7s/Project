{
 "cells": [
  {
   "cell_type": "markdown",
   "id": "cef96882",
   "metadata": {},
   "source": [
    "# Diabetic_Retinopathy Using AlexNet Model"
   ]
  },
  {
   "cell_type": "code",
   "execution_count": 1,
   "id": "95ef678b",
   "metadata": {},
   "outputs": [],
   "source": [
    "import numpy as np\n",
    "import matplotlib.pyplot as plt\n",
    "import seaborn as sns\n",
    "from tensorflow import keras\n",
    "from sklearn.utils import shuffle\n",
    "from skimage.transform import resize\n",
    "from sklearn.metrics import accuracy_score \n",
    "from sklearn.metrics import confusion_matrix\n",
    "import glob\n",
    "import torch\n",
    "import torchvision.models as models"
   ]
  },
  {
   "cell_type": "code",
   "execution_count": 2,
   "id": "3854789b",
   "metadata": {},
   "outputs": [],
   "source": [
    "import warnings\n",
    "warnings.filterwarnings('ignore')"
   ]
  },
  {
   "cell_type": "code",
   "execution_count": 3,
   "id": "c6d9c787",
   "metadata": {},
   "outputs": [
    {
     "name": "stdout",
     "output_type": "stream",
     "text": [
      "AlexNet(\n",
      "  (features): Sequential(\n",
      "    (0): Conv2d(3, 64, kernel_size=(11, 11), stride=(4, 4), padding=(2, 2))\n",
      "    (1): ReLU(inplace=True)\n",
      "    (2): MaxPool2d(kernel_size=3, stride=2, padding=0, dilation=1, ceil_mode=False)\n",
      "    (3): Conv2d(64, 192, kernel_size=(5, 5), stride=(1, 1), padding=(2, 2))\n",
      "    (4): ReLU(inplace=True)\n",
      "    (5): MaxPool2d(kernel_size=3, stride=2, padding=0, dilation=1, ceil_mode=False)\n",
      "    (6): Conv2d(192, 384, kernel_size=(3, 3), stride=(1, 1), padding=(1, 1))\n",
      "    (7): ReLU(inplace=True)\n",
      "    (8): Conv2d(384, 256, kernel_size=(3, 3), stride=(1, 1), padding=(1, 1))\n",
      "    (9): ReLU(inplace=True)\n",
      "    (10): Conv2d(256, 256, kernel_size=(3, 3), stride=(1, 1), padding=(1, 1))\n",
      "    (11): ReLU(inplace=True)\n",
      "    (12): MaxPool2d(kernel_size=3, stride=2, padding=0, dilation=1, ceil_mode=False)\n",
      "  )\n",
      "  (avgpool): AdaptiveAvgPool2d(output_size=(6, 6))\n",
      "  (classifier): Sequential(\n",
      "    (0): Dropout(p=0.5, inplace=False)\n",
      "    (1): Linear(in_features=9216, out_features=4096, bias=True)\n",
      "    (2): ReLU(inplace=True)\n",
      "    (3): Dropout(p=0.5, inplace=False)\n",
      "    (4): Linear(in_features=4096, out_features=4096, bias=True)\n",
      "    (5): ReLU(inplace=True)\n",
      "    (6): Linear(in_features=4096, out_features=1000, bias=True)\n",
      "  )\n",
      ")\n"
     ]
    }
   ],
   "source": [
    "alexnet = models.alexnet(pretrained = True)\n",
    "print(alexnet)"
   ]
  },
  {
   "cell_type": "code",
   "execution_count": 4,
   "id": "cf815f8e",
   "metadata": {},
   "outputs": [],
   "source": [
    "Healthy = glob.glob('Diabetic/Healthy/*.png')\n",
    "Mild_DR = glob.glob('Diabetic/Mild DR/*.png')\n",
    "Moderate_DR = glob.glob('Diabetic/Moderate DR/*.png')\n",
    "Proliferate_DR = glob.glob('Diabetic/Proliferate DR/*.png')\n",
    "Severe_DR = glob.glob('Diabetic/Severe DR/*.png')"
   ]
  },
  {
   "cell_type": "code",
   "execution_count": 5,
   "id": "bd80ce12",
   "metadata": {},
   "outputs": [],
   "source": [
    "image = []\n",
    "label = []\n",
    "\n",
    "for i in Healthy:\n",
    "    img = plt.imread(i)\n",
    "    image.append(img)\n",
    "    label.append(0)\n",
    "    \n",
    "for i in Mild_DR:\n",
    "    img = plt.imread(i)\n",
    "    image.append(img)\n",
    "    label.append(1)\n",
    "    \n",
    "for i in Moderate_DR:\n",
    "    img = plt.imread(i)\n",
    "    image.append(img)\n",
    "    label.append(2)\n",
    "    \n",
    "for i in Proliferate_DR:\n",
    "    img = plt.imread(i)\n",
    "    image.append(img)\n",
    "    label.append(3)\n",
    "    \n",
    "for i in Severe_DR:\n",
    "    img = plt.imread(i)\n",
    "    image.append(img)\n",
    "    label.append(4)"
   ]
  },
  {
   "cell_type": "code",
   "execution_count": 6,
   "id": "1c8727a6",
   "metadata": {},
   "outputs": [],
   "source": [
    "image, label = shuffle(image, label)"
   ]
  },
  {
   "cell_type": "code",
   "execution_count": 7,
   "id": "be8c6cc2",
   "metadata": {},
   "outputs": [],
   "source": [
    "X = []\n",
    "for i in image:\n",
    "    X.append(resize(i, (227,227,3)))\n",
    "X = np.array(X)"
   ]
  },
  {
   "cell_type": "code",
   "execution_count": 8,
   "id": "027e6931",
   "metadata": {},
   "outputs": [],
   "source": [
    "y = np.array(label)"
   ]
  },
  {
   "cell_type": "code",
   "execution_count": 9,
   "id": "d086cf27",
   "metadata": {},
   "outputs": [],
   "source": [
    "from sklearn.model_selection import train_test_split"
   ]
  },
  {
   "cell_type": "code",
   "execution_count": 10,
   "id": "f98547d8",
   "metadata": {},
   "outputs": [],
   "source": [
    "X_train, X_test,y_train, y_test = train_test_split(X, y, test_size = 0.2)"
   ]
  },
  {
   "cell_type": "code",
   "execution_count": 11,
   "id": "cea4ed9b",
   "metadata": {},
   "outputs": [
    {
     "data": {
      "text/plain": [
       "(2200, 227, 227, 3)"
      ]
     },
     "execution_count": 11,
     "metadata": {},
     "output_type": "execute_result"
    }
   ],
   "source": [
    "X_train.shape"
   ]
  },
  {
   "cell_type": "code",
   "execution_count": 12,
   "id": "b365fa67",
   "metadata": {},
   "outputs": [
    {
     "data": {
      "text/plain": [
       "(2200,)"
      ]
     },
     "execution_count": 12,
     "metadata": {},
     "output_type": "execute_result"
    }
   ],
   "source": [
    "y_train.shape"
   ]
  },
  {
   "cell_type": "code",
   "execution_count": 13,
   "id": "ab43bdb5",
   "metadata": {},
   "outputs": [],
   "source": [
    "model = keras.models.Sequential([\n",
    "    keras.layers.Conv2D(filters=96, kernel_size=(11,11), strides=(4,4), activation='relu', input_shape=(227,227,3)),\n",
    "    keras.layers.BatchNormalization(),\n",
    "    keras.layers.MaxPool2D(pool_size=(3,3), strides=(2,2)),\n",
    "    keras.layers.Conv2D(filters=256, kernel_size=(5,5), strides=(1,1), activation='relu', padding=\"same\"),\n",
    "    keras.layers.BatchNormalization(),\n",
    "    keras.layers.MaxPool2D(pool_size=(3,3), strides=(2,2)),\n",
    "    keras.layers.Conv2D(filters=384, kernel_size=(3,3), strides=(1,1), activation='relu', padding=\"same\"),\n",
    "    keras.layers.BatchNormalization(),\n",
    "    keras.layers.Conv2D(filters=384, kernel_size=(3,3), strides=(1,1), activation='relu', padding=\"same\"),\n",
    "    keras.layers.BatchNormalization(),\n",
    "    keras.layers.Conv2D(filters=256, kernel_size=(3,3), strides=(1,1), activation='relu', padding=\"same\"),\n",
    "    keras.layers.BatchNormalization(),\n",
    "    keras.layers.MaxPool2D(pool_size=(3,3), strides=(2,2)),\n",
    "    keras.layers.Flatten(),\n",
    "    keras.layers.Dense(4096, activation='relu'),\n",
    "    keras.layers.Dropout(0.5),\n",
    "    keras.layers.Dense(4096, activation='relu'),\n",
    "    keras.layers.Dropout(0.5),\n",
    "    keras.layers.Dense(10, activation='softmax')\n",
    "])"
   ]
  },
  {
   "cell_type": "code",
   "execution_count": 14,
   "id": "b5ffa7e7",
   "metadata": {},
   "outputs": [],
   "source": [
    "model.compile(optimizer = 'adam',\n",
    "             loss = 'sparse_categorical_crossentropy',\n",
    "             metrics = ['accuracy'])"
   ]
  },
  {
   "cell_type": "code",
   "execution_count": 15,
   "id": "55c41922",
   "metadata": {},
   "outputs": [
    {
     "name": "stdout",
     "output_type": "stream",
     "text": [
      "Model: \"sequential\"\n",
      "_________________________________________________________________\n",
      " Layer (type)                Output Shape              Param #   \n",
      "=================================================================\n",
      " conv2d (Conv2D)             (None, 55, 55, 96)        34944     \n",
      "                                                                 \n",
      " batch_normalization (BatchN  (None, 55, 55, 96)       384       \n",
      " ormalization)                                                   \n",
      "                                                                 \n",
      " max_pooling2d (MaxPooling2D  (None, 27, 27, 96)       0         \n",
      " )                                                               \n",
      "                                                                 \n",
      " conv2d_1 (Conv2D)           (None, 27, 27, 256)       614656    \n",
      "                                                                 \n",
      " batch_normalization_1 (Batc  (None, 27, 27, 256)      1024      \n",
      " hNormalization)                                                 \n",
      "                                                                 \n",
      " max_pooling2d_1 (MaxPooling  (None, 13, 13, 256)      0         \n",
      " 2D)                                                             \n",
      "                                                                 \n",
      " conv2d_2 (Conv2D)           (None, 13, 13, 384)       885120    \n",
      "                                                                 \n",
      " batch_normalization_2 (Batc  (None, 13, 13, 384)      1536      \n",
      " hNormalization)                                                 \n",
      "                                                                 \n",
      " conv2d_3 (Conv2D)           (None, 13, 13, 384)       1327488   \n",
      "                                                                 \n",
      " batch_normalization_3 (Batc  (None, 13, 13, 384)      1536      \n",
      " hNormalization)                                                 \n",
      "                                                                 \n",
      " conv2d_4 (Conv2D)           (None, 13, 13, 256)       884992    \n",
      "                                                                 \n",
      " batch_normalization_4 (Batc  (None, 13, 13, 256)      1024      \n",
      " hNormalization)                                                 \n",
      "                                                                 \n",
      " max_pooling2d_2 (MaxPooling  (None, 6, 6, 256)        0         \n",
      " 2D)                                                             \n",
      "                                                                 \n",
      " flatten (Flatten)           (None, 9216)              0         \n",
      "                                                                 \n",
      " dense (Dense)               (None, 4096)              37752832  \n",
      "                                                                 \n",
      " dropout (Dropout)           (None, 4096)              0         \n",
      "                                                                 \n",
      " dense_1 (Dense)             (None, 4096)              16781312  \n",
      "                                                                 \n",
      " dropout_1 (Dropout)         (None, 4096)              0         \n",
      "                                                                 \n",
      " dense_2 (Dense)             (None, 10)                40970     \n",
      "                                                                 \n",
      "=================================================================\n",
      "Total params: 58,327,818\n",
      "Trainable params: 58,325,066\n",
      "Non-trainable params: 2,752\n",
      "_________________________________________________________________\n"
     ]
    }
   ],
   "source": [
    "model.summary()"
   ]
  },
  {
   "cell_type": "code",
   "execution_count": 16,
   "id": "7376be4b",
   "metadata": {
    "scrolled": false
   },
   "outputs": [
    {
     "name": "stdout",
     "output_type": "stream",
     "text": [
      "Epoch 1/50\n",
      "62/62 [==============================] - 82s 1s/step - loss: 12.1934 - accuracy: 0.4768 - val_loss: 3.2938 - val_accuracy: 0.2636\n",
      "Epoch 2/50\n",
      "62/62 [==============================] - 81s 1s/step - loss: 1.6572 - accuracy: 0.5258 - val_loss: 1.7273 - val_accuracy: 0.2636\n",
      "Epoch 3/50\n",
      "62/62 [==============================] - 80s 1s/step - loss: 1.2085 - accuracy: 0.5768 - val_loss: 3.8453 - val_accuracy: 0.1318\n",
      "Epoch 4/50\n",
      "62/62 [==============================] - 81s 1s/step - loss: 1.1885 - accuracy: 0.5808 - val_loss: 2.1055 - val_accuracy: 0.1318\n",
      "Epoch 5/50\n",
      "62/62 [==============================] - 81s 1s/step - loss: 1.1110 - accuracy: 0.5980 - val_loss: 197.4334 - val_accuracy: 0.1273\n",
      "Epoch 6/50\n",
      "62/62 [==============================] - 81s 1s/step - loss: 1.1074 - accuracy: 0.5975 - val_loss: 82.7348 - val_accuracy: 0.1773\n",
      "Epoch 7/50\n",
      "62/62 [==============================] - 81s 1s/step - loss: 1.3112 - accuracy: 0.5848 - val_loss: 102.1166 - val_accuracy: 0.4045\n",
      "Epoch 8/50\n",
      "62/62 [==============================] - 81s 1s/step - loss: 1.4059 - accuracy: 0.5591 - val_loss: 178.0139 - val_accuracy: 0.4045\n",
      "Epoch 9/50\n",
      "62/62 [==============================] - 80s 1s/step - loss: 1.1583 - accuracy: 0.5879 - val_loss: 331.8882 - val_accuracy: 0.4045\n",
      "Epoch 10/50\n",
      "62/62 [==============================] - 82s 1s/step - loss: 1.1063 - accuracy: 0.6030 - val_loss: 640.8068 - val_accuracy: 0.4045\n",
      "Epoch 11/50\n",
      "62/62 [==============================] - 80s 1s/step - loss: 1.1219 - accuracy: 0.5939 - val_loss: 68.7932 - val_accuracy: 0.3182\n",
      "Epoch 12/50\n",
      "62/62 [==============================] - 81s 1s/step - loss: 1.0693 - accuracy: 0.6056 - val_loss: 130.6201 - val_accuracy: 0.3591\n",
      "Epoch 13/50\n",
      "62/62 [==============================] - 81s 1s/step - loss: 1.0129 - accuracy: 0.6253 - val_loss: 1.4630 - val_accuracy: 0.4045\n",
      "Epoch 14/50\n",
      "62/62 [==============================] - 82s 1s/step - loss: 1.0712 - accuracy: 0.6157 - val_loss: 2.4084 - val_accuracy: 0.4227\n",
      "Epoch 15/50\n",
      "62/62 [==============================] - 81s 1s/step - loss: 1.0287 - accuracy: 0.6318 - val_loss: 1.5762 - val_accuracy: 0.5182\n",
      "Epoch 16/50\n",
      "62/62 [==============================] - 82s 1s/step - loss: 1.0416 - accuracy: 0.6328 - val_loss: 3117.0542 - val_accuracy: 0.4045\n",
      "Epoch 17/50\n",
      "62/62 [==============================] - 85s 1s/step - loss: 1.0122 - accuracy: 0.6313 - val_loss: 1.2787 - val_accuracy: 0.4545\n",
      "Epoch 18/50\n",
      "62/62 [==============================] - 82s 1s/step - loss: 1.0745 - accuracy: 0.6207 - val_loss: 159.7552 - val_accuracy: 0.4045\n",
      "Epoch 19/50\n",
      "62/62 [==============================] - 88s 1s/step - loss: 1.0158 - accuracy: 0.6318 - val_loss: 1.6244 - val_accuracy: 0.4364\n",
      "Epoch 20/50\n",
      "62/62 [==============================] - 91s 1s/step - loss: 1.0406 - accuracy: 0.6293 - val_loss: 63.1399 - val_accuracy: 0.3364\n",
      "Epoch 21/50\n",
      "62/62 [==============================] - 94s 2s/step - loss: 1.0114 - accuracy: 0.6374 - val_loss: 6610.6006 - val_accuracy: 0.4045\n",
      "Epoch 22/50\n",
      "62/62 [==============================] - 86s 1s/step - loss: 1.0213 - accuracy: 0.6247 - val_loss: 4103.3916 - val_accuracy: 0.4045\n",
      "Epoch 23/50\n",
      "62/62 [==============================] - 86s 1s/step - loss: 0.9854 - accuracy: 0.6434 - val_loss: 471.1489 - val_accuracy: 0.4045\n",
      "Epoch 24/50\n",
      "62/62 [==============================] - 84s 1s/step - loss: 0.9833 - accuracy: 0.6369 - val_loss: 3421.8733 - val_accuracy: 0.4045\n",
      "Epoch 25/50\n",
      "62/62 [==============================] - 82s 1s/step - loss: 0.9969 - accuracy: 0.6409 - val_loss: 743.2678 - val_accuracy: 0.4045\n",
      "Epoch 26/50\n",
      "62/62 [==============================] - 81s 1s/step - loss: 1.0295 - accuracy: 0.6298 - val_loss: 2382.9849 - val_accuracy: 0.4045\n",
      "Epoch 27/50\n",
      "62/62 [==============================] - 85s 1s/step - loss: 1.0032 - accuracy: 0.6404 - val_loss: 91.2512 - val_accuracy: 0.2727\n",
      "Epoch 28/50\n",
      "62/62 [==============================] - 84s 1s/step - loss: 1.0102 - accuracy: 0.6374 - val_loss: 492.1669 - val_accuracy: 0.4091\n",
      "Epoch 29/50\n",
      "62/62 [==============================] - 83s 1s/step - loss: 0.9804 - accuracy: 0.6444 - val_loss: 881.3705 - val_accuracy: 0.4045\n",
      "Epoch 30/50\n",
      "62/62 [==============================] - 86s 1s/step - loss: 0.9747 - accuracy: 0.6439 - val_loss: 4.9040 - val_accuracy: 0.5409\n",
      "Epoch 31/50\n",
      "62/62 [==============================] - 83s 1s/step - loss: 1.0156 - accuracy: 0.6308 - val_loss: 798.4598 - val_accuracy: 0.2409\n",
      "Epoch 32/50\n",
      "62/62 [==============================] - 81s 1s/step - loss: 1.1766 - accuracy: 0.6162 - val_loss: 709.4379 - val_accuracy: 0.4045\n",
      "Epoch 33/50\n",
      "62/62 [==============================] - 81s 1s/step - loss: 1.1345 - accuracy: 0.6086 - val_loss: 112.2646 - val_accuracy: 0.4045\n",
      "Epoch 34/50\n",
      "62/62 [==============================] - 81s 1s/step - loss: 1.0484 - accuracy: 0.6237 - val_loss: 3297.1399 - val_accuracy: 0.4045\n",
      "Epoch 35/50\n",
      "62/62 [==============================] - 81s 1s/step - loss: 1.0462 - accuracy: 0.6293 - val_loss: 457.5458 - val_accuracy: 0.4045\n",
      "Epoch 36/50\n",
      "62/62 [==============================] - 81s 1s/step - loss: 1.0406 - accuracy: 0.6318 - val_loss: 23.4089 - val_accuracy: 0.5227\n",
      "Epoch 37/50\n",
      "62/62 [==============================] - 82s 1s/step - loss: 1.0160 - accuracy: 0.6434 - val_loss: 671.7266 - val_accuracy: 0.4045\n",
      "Epoch 38/50\n",
      "62/62 [==============================] - 83s 1s/step - loss: 0.9925 - accuracy: 0.6460 - val_loss: 88.7775 - val_accuracy: 0.4227\n",
      "Epoch 39/50\n",
      "62/62 [==============================] - 84s 1s/step - loss: 1.0018 - accuracy: 0.6359 - val_loss: 1.4573 - val_accuracy: 0.4773\n",
      "Epoch 40/50\n",
      "62/62 [==============================] - 86s 1s/step - loss: 0.9530 - accuracy: 0.6540 - val_loss: 1.0054 - val_accuracy: 0.6091\n",
      "Epoch 41/50\n",
      "62/62 [==============================] - 99s 2s/step - loss: 0.9610 - accuracy: 0.6515 - val_loss: 1.8439 - val_accuracy: 0.5182\n",
      "Epoch 42/50\n",
      "62/62 [==============================] - 98s 2s/step - loss: 0.9919 - accuracy: 0.6505 - val_loss: 1.3736 - val_accuracy: 0.4500\n",
      "Epoch 43/50\n",
      "62/62 [==============================] - 98s 2s/step - loss: 0.9560 - accuracy: 0.6500 - val_loss: 1149.6854 - val_accuracy: 0.4045\n",
      "Epoch 44/50\n",
      "62/62 [==============================] - 97s 2s/step - loss: 0.9396 - accuracy: 0.6535 - val_loss: 2078.7559 - val_accuracy: 0.4045\n",
      "Epoch 45/50\n",
      "62/62 [==============================] - 97s 2s/step - loss: 1.0222 - accuracy: 0.6470 - val_loss: 31227.3984 - val_accuracy: 0.4045\n",
      "Epoch 46/50\n",
      "62/62 [==============================] - 97s 2s/step - loss: 1.5127 - accuracy: 0.5808 - val_loss: 487.4556 - val_accuracy: 0.4045\n",
      "Epoch 47/50\n",
      "62/62 [==============================] - 97s 2s/step - loss: 1.0921 - accuracy: 0.6202 - val_loss: 43111.8594 - val_accuracy: 0.4045\n",
      "Epoch 48/50\n",
      "62/62 [==============================] - 97s 2s/step - loss: 0.9979 - accuracy: 0.6389 - val_loss: 11962.6748 - val_accuracy: 0.4045\n",
      "Epoch 49/50\n",
      "62/62 [==============================] - 97s 2s/step - loss: 0.9950 - accuracy: 0.6455 - val_loss: 2803.3577 - val_accuracy: 0.4045\n",
      "Epoch 50/50\n",
      "62/62 [==============================] - 107s 2s/step - loss: 1.0290 - accuracy: 0.6404 - val_loss: 2646.8467 - val_accuracy: 0.4045\n"
     ]
    },
    {
     "data": {
      "text/plain": [
       "<keras.callbacks.History at 0x22ddec0fa90>"
      ]
     },
     "execution_count": 16,
     "metadata": {},
     "output_type": "execute_result"
    }
   ],
   "source": [
    "model.fit(X_train,y_train,\n",
    "          epochs = 50,\n",
    "          validation_split = 0.1)"
   ]
  },
  {
   "cell_type": "code",
   "execution_count": 17,
   "id": "522d8208",
   "metadata": {},
   "outputs": [
    {
     "name": "stdout",
     "output_type": "stream",
     "text": [
      "69/69 [==============================] - 19s 269ms/step - loss: 2758.9136 - accuracy: 0.3627\n"
     ]
    },
    {
     "data": {
      "text/plain": [
       "[2758.91357421875, 0.3627272844314575]"
      ]
     },
     "execution_count": 17,
     "metadata": {},
     "output_type": "execute_result"
    }
   ],
   "source": [
    "model.evaluate(X_train, y_train)"
   ]
  },
  {
   "cell_type": "code",
   "execution_count": null,
   "id": "b4403950",
   "metadata": {},
   "outputs": [],
   "source": []
  }
 ],
 "metadata": {
  "kernelspec": {
   "display_name": "Python 3 (ipykernel)",
   "language": "python",
   "name": "python3"
  },
  "language_info": {
   "codemirror_mode": {
    "name": "ipython",
    "version": 3
   },
   "file_extension": ".py",
   "mimetype": "text/x-python",
   "name": "python",
   "nbconvert_exporter": "python",
   "pygments_lexer": "ipython3",
   "version": "3.10.9"
  }
 },
 "nbformat": 4,
 "nbformat_minor": 5
}
